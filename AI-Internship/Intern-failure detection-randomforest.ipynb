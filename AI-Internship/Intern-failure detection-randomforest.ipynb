{
 "cells": [
  {
   "cell_type": "code",
   "execution_count": 19,
   "metadata": {},
   "outputs": [
    {
     "name": "stdout",
     "output_type": "stream",
     "text": [
      "[[167   1]\n",
      " [  0  31]]\n",
      "             precision    recall  f1-score   support\n",
      "\n",
      "          0       1.00      0.99      1.00       168\n",
      "          1       0.97      1.00      0.98        31\n",
      "\n",
      "avg / total       1.00      0.99      1.00       199\n",
      "\n",
      "0.994974874372\n"
     ]
    },
    {
     "data": {
      "image/png": "[encoded data removed]",
      "text/plain": [
       "<matplotlib.figure.Figure at 0x7fe2b793f518>"
      ]
     },
     "metadata": {},
     "output_type": "display_data"
    }
   ],
   "source": [
    "import pandas as pd  \n",
    "import numpy as np  \n",
    "import matplotlib.pyplot as plt  \n",
    "from sklearn.model_selection import train_test_split\n",
    "import seaborn as sns\n",
    "%matplotlib inline\n",
    "\n",
    "data = pd.read_csv(\"posca_factor_ping-final.csv\",usecols=[2,3,4,5,6],engine='python')  \n",
    "\n",
    "#print(data.shape)\n",
    "\n",
    "x = data.drop('result', axis=1)  \n",
    "y = data['result']  \n",
    "\n",
    "#print(x.head())\n",
    "  \n",
    "X_train, X_test, y_train, y_test = train_test_split(x, y, test_size=0.35, random_state=0) \n",
    "\n",
    "# Feature Scaling\n",
    "from sklearn.preprocessing import StandardScaler\n",
    "\n",
    "sc = StandardScaler()  \n",
    "X_train = sc.fit_transform(X_train)  \n",
    "X_test = sc.transform(X_test)  \n",
    "\n",
    "from sklearn.ensemble import RandomForestClassifier\n",
    "\n",
    "\n",
    "rrf_model = RandomForestClassifier(max_depth=10,n_estimators=10)  \n",
    "rrf_model.fit(X_train, y_train)  \n",
    "y_pred = rrf_model.predict(X_test)  \n",
    "\n",
    "from sklearn.metrics import classification_report, confusion_matrix, accuracy_score\n",
    "\n",
    "result=confusion_matrix(y_test,y_pred)\n",
    "print(result)\n",
    "print(classification_report(y_test,y_pred))  \n",
    "print(accuracy_score(y_test, y_pred))  \n",
    "\n",
    "sns.heatmap(result, annot=True, fmt='.2f',xticklabels = [\"FAIL\", \"PASS\"] , yticklabels = [\"FAIL\", \"PASS\"] )\n",
    "plt.ylabel('True class')\n",
    "plt.xlabel('Predicted class')\n",
    "plt.title('Random Forest')\n",
    "plt.savefig('random_forest')"
   ]
  },
  {
   "cell_type": "code",
   "execution_count": null,
   "metadata": {
    "collapsed": true
   },
   "outputs": [],
   "source": []
  }
 ],
 "metadata": {
  "kernelspec": {
   "display_name": "Python 2",
   "language": "python",
   "name": "python2"
  },
  "language_info": {
   "codemirror_mode": {
    "name": "ipython",
    "version": 3
   },
   "file_extension": ".py",
   "mimetype": "text/x-python",
   "name": "python",
   "nbconvert_exporter": "python",
   "pygments_lexer": "ipython3",
   "version": "3.6.3"
  }
 },
 "nbformat": 4,
 "nbformat_minor": 2
}
